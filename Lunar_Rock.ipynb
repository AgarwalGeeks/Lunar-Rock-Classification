{
  "nbformat": 4,
  "nbformat_minor": 0,
  "metadata": {
    "colab": {
      "name": "Lunar Rock.ipynb",
      "provenance": [],
      "private_outputs": true,
      "authorship_tag": "ABX9TyMfh0g49mdQ8wIZileOv9Ku",
      "include_colab_link": true
    },
    "kernelspec": {
      "name": "python3",
      "display_name": "Python 3"
    },
    "accelerator": "GPU"
  },
  "cells": [
    {
      "cell_type": "markdown",
      "metadata": {
        "id": "view-in-github",
        "colab_type": "text"
      },
      "source": [
        "<a href=\"https://colab.research.google.com/github/AgarwalGeeks/Lunar-Rock-Classification/blob/master/Lunar_Rock.ipynb\" target=\"_parent\"><img src=\"https://colab.research.google.com/assets/colab-badge.svg\" alt=\"Open In Colab\"/></a>"
      ]
    },
    {
      "cell_type": "code",
      "metadata": {
        "id": "v3AAQawQ-NL7",
        "colab_type": "code",
        "colab": {}
      },
      "source": [
        "from google.colab import drive\n",
        "drive.mount('/content/drive')"
      ],
      "execution_count": 0,
      "outputs": []
    },
    {
      "cell_type": "code",
      "metadata": {
        "id": "5N1LaXlc-2H7",
        "colab_type": "code",
        "colab": {}
      },
      "source": [
        "import numpy as np\n",
        "import pandas as pd\n",
        "import matplotlib.pyplot as plt\n",
        "%matplotlib inline\n",
        "import seaborn as sns\n",
        "\n",
        "import warnings\n",
        "warnings.filterwarnings('ignore')"
      ],
      "execution_count": 0,
      "outputs": []
    },
    {
      "cell_type": "code",
      "metadata": {
        "id": "-R99PXsKmuOl",
        "colab_type": "code",
        "colab": {}
      },
      "source": [
        "### unzipping the dataset\n",
        "#!unzip 'drive/My Drive/Lunar Rock classification/DataSet.zip'"
      ],
      "execution_count": 0,
      "outputs": []
    },
    {
      "cell_type": "code",
      "metadata": {
        "id": "jNZ00STOnki1",
        "colab_type": "code",
        "colab": {}
      },
      "source": [
        "#\n"
      ],
      "execution_count": 0,
      "outputs": []
    },
    {
      "cell_type": "code",
      "metadata": {
        "id": "jDnsroyUoOoV",
        "colab_type": "code",
        "colab": {}
      },
      "source": [
        "!unzip '/content/DataSet/Test Images.zip'"
      ],
      "execution_count": 0,
      "outputs": []
    },
    {
      "cell_type": "code",
      "metadata": {
        "id": "A8rSAuaO-1-H",
        "colab_type": "code",
        "colab": {}
      },
      "source": [
        "import os\n",
        "\n",
        "tr_l_list = os.listdir('/content/Train Images/Large')\n",
        "\n",
        "tr_s_list = os.listdir('/content/Train Images/Small')\n",
        "\n",
        "te_list = os.listdir('/content/Test Images')\n",
        "\n",
        "print(\"\\n -> Number of images in train large:\", len(tr_l_list))\n",
        "print(\"\\n -> Number of images in train small:\", len(tr_s_list))\n",
        "print(\"\\n -> Number of images in test:\", len(te_list))"
      ],
      "execution_count": 0,
      "outputs": []
    },
    {
      "cell_type": "code",
      "metadata": {
        "id": "fqAd5zNHvkdn",
        "colab_type": "code",
        "colab": {}
      },
      "source": [
        "print('content/Train Images/Large/'+tr_l_list[0])"
      ],
      "execution_count": 0,
      "outputs": []
    },
    {
      "cell_type": "code",
      "metadata": {
        "id": "KDbv3fJq-1x6",
        "colab_type": "code",
        "colab": {}
      },
      "source": [
        "import cv2\n",
        "\n",
        "print(\"\\nFirst 10 images from train large\")\n",
        "print('*'*35, '\\n')\n",
        "\n",
        "fig = plt.figure(figsize=(20,20))\n",
        "\n",
        "for i in range(1, 11):\n",
        "    \n",
        "    fig.add_subplot(5,2,i)\n",
        "    \n",
        "    read = cv2.imread('Train Images/Large/'+tr_l_list[i])\n",
        "    img = cv2.cvtColor(read, cv2.COLOR_BGR2RGB)\n",
        "    plt.imshow(img)\n",
        "  \n",
        "plt.show()"
      ],
      "execution_count": 0,
      "outputs": []
    },
    {
      "cell_type": "code",
      "metadata": {
        "id": "nEAcAnCf-1ob",
        "colab_type": "code",
        "colab": {}
      },
      "source": [
        "import cv2\n",
        "\n",
        "print(\"\\nFirst 10 images from train small\")\n",
        "print('*'*35, '\\n')\n",
        "\n",
        "fig = plt.figure(figsize=(20,20))\n",
        "\n",
        "for i in range(1, 11):\n",
        "    \n",
        "    fig.add_subplot(5,2,i)\n",
        "    \n",
        "    read = cv2.imread('Train Images/Small/'+tr_s_list[i])\n",
        "    img = cv2.cvtColor(read, cv2.COLOR_BGR2RGB)\n",
        "    plt.imshow(img)\n",
        "  \n",
        "plt.show()"
      ],
      "execution_count": 0,
      "outputs": []
    },
    {
      "cell_type": "code",
      "metadata": {
        "id": "r54zSs69-zk1",
        "colab_type": "code",
        "colab": {}
      },
      "source": [
        "df = pd.read_csv('DataSet/train.csv')\n",
        "\n",
        "print(\"\\n -> Displaying head of train dataframe.\\n\")\n",
        "\n",
        "df.head()"
      ],
      "execution_count": 0,
      "outputs": []
    },
    {
      "cell_type": "code",
      "metadata": {
        "id": "b1PK8f1I-zOV",
        "colab_type": "code",
        "colab": {}
      },
      "source": [
        "print(\"\\n -> Shape of train data:\", df.shape)\n",
        "print(\"\\n -> Number of rows in train data:\", df.shape[0])\n",
        "print(\"\\n -> Number of columns in train data:\", df.shape[1])\n",
        "print(\"\\n -> Number of images in train data:\", df.shape[0])\n",
        "print(\"\\n -> Number of images of class Large in train data:\", df.Class.value_counts()[1])\n",
        "print(\"\\n -> Number of images of class Small in train data:\", df.Class.value_counts()[0])"
      ],
      "execution_count": 0,
      "outputs": []
    },
    {
      "cell_type": "code",
      "metadata": {
        "id": "vLGs7hTl_S3g",
        "colab_type": "code",
        "colab": {}
      },
      "source": [
        "print(\"\\n -> Count of Large and Small class.\\n\")\n",
        "print(df.Class.value_counts())"
      ],
      "execution_count": 0,
      "outputs": []
    },
    {
      "cell_type": "code",
      "metadata": {
        "id": "91DFj7UR_StV",
        "colab_type": "code",
        "colab": {}
      },
      "source": [
        "print(\"\\n -> Graphically visualzing count of Large and Small class.\\n\")\n",
        "\n",
        "sns.countplot(df.Class)\n",
        "plt.show()"
      ],
      "execution_count": 0,
      "outputs": []
    },
    {
      "cell_type": "code",
      "metadata": {
        "id": "PGBNU0VH_Sg3",
        "colab_type": "code",
        "colab": {}
      },
      "source": [
        "import keras\n",
        "\n",
        "from keras.preprocessing.image import ImageDataGenerator\n",
        "\n",
        "img_gen = ImageDataGenerator(rotation_range = 30,\n",
        "                            width_shift_range = 0.1,\n",
        "                            height_shift_range = 0.1,\n",
        "                            rescale = 1/255,\n",
        "                            zoom_range = 0.2)"
      ],
      "execution_count": 0,
      "outputs": []
    },
    {
      "cell_type": "code",
      "metadata": {
        "id": "aE-yST8x_SNw",
        "colab_type": "code",
        "colab": {}
      },
      "source": [
        "print(\" -> Original image from Train Large\\n\")\n",
        "\n",
        "re = cv2.imread('Train Images/Large/'+tr_l_list[1])\n",
        "re = cv2.cvtColor(re, cv2.COLOR_BGR2RGB)\n",
        "\n",
        "plt.imshow(re)\n",
        "plt.show()"
      ],
      "execution_count": 0,
      "outputs": []
    },
    {
      "cell_type": "code",
      "metadata": {
        "id": "vZKPOYwg_igf",
        "colab_type": "code",
        "colab": {}
      },
      "source": [
        "print(\" -> Generated image from Train Large\\n\")\n",
        "\n",
        "re = cv2.imread('Train Images/Large/'+tr_l_list[1])\n",
        "re = cv2.cvtColor(re, cv2.COLOR_BGR2RGB)\n",
        "\n",
        "plt.imshow(img_gen.random_transform(re))\n",
        "plt.show()"
      ],
      "execution_count": 0,
      "outputs": []
    },
    {
      "cell_type": "code",
      "metadata": {
        "id": "h51FSR_f_iUq",
        "colab_type": "code",
        "colab": {}
      },
      "source": [
        "print(\"\\n -> Viewing number of classes in train data\\n\")\n",
        "\n",
        "print(img_gen.flow_from_directory('Train Images'))"
      ],
      "execution_count": 0,
      "outputs": []
    },
    {
      "cell_type": "code",
      "metadata": {
        "id": "YqUblji1_iHR",
        "colab_type": "code",
        "colab": {}
      },
      "source": [
        "print(\"\\n -> Shape of image:\", re.shape)\n",
        "print(\"\\n -> Width of image:\", re.shape[0])\n",
        "print(\"\\n -> Width of image:\", re.shape[1])\n",
        "print(\"\\n -> Number of color channels of image:\", re.shape[2])"
      ],
      "execution_count": 0,
      "outputs": []
    },
    {
      "cell_type": "code",
      "metadata": {
        "id": "IJu8DVdJ_hzV",
        "colab_type": "code",
        "colab": {}
      },
      "source": [
        "input_shape = (480, 480, 3)"
      ],
      "execution_count": 0,
      "outputs": []
    },
    {
      "cell_type": "code",
      "metadata": {
        "id": "khVvcJ3Z_w8N",
        "colab_type": "code",
        "colab": {}
      },
      "source": [
        "from keras.models import Sequential, Model\n",
        "\n",
        "from keras import regularizers\n",
        "\n",
        "from keras.layers import Activation, Conv2D, MaxPool2D, Dropout, Dense, Flatten"
      ],
      "execution_count": 0,
      "outputs": []
    },
    {
      "cell_type": "code",
      "metadata": {
        "id": "v8-oik3y_wmr",
        "colab_type": "code",
        "colab": {}
      },
      "source": [
        "from keras.callbacks import TensorBoard, ModelCheckpoint, EarlyStopping\n",
        "\n",
        "# Saves the model after every epoch\n",
        "checkpoint_2 = ModelCheckpoint(\"lunar_model_2.h5\", monitor = \"train_loss\", mode = \"min\",\n",
        "                                save_best_only = True, verbose = 1)\n",
        "\n",
        "# Stops training when a monitored quantity has stopped improving.\n",
        "earlystop_2 = EarlyStopping(monitor = 'train_loss', mode = \"min\", patience = 5,\n",
        "                            verbose = 1, restore_best_weights = True)\n",
        "\n",
        "# TensorBoard is a visualization tool provided with TensorFlow.\n",
        "tensorboard_2 = TensorBoard(log_dir = \"drive/My Drive/Lunar Rock/lunar_graph_2\",\n",
        "                         histogram_freq = 0, batch_size = 500, write_graph = True,\n",
        "                         write_grads = False, write_images = False, embeddings_freq = 0,\n",
        "                         embeddings_layer_names = None, embeddings_metadata = None,\n",
        "                         embeddings_data = None, update_freq = 'epoch')\n",
        "\n",
        "# Creating Callback\n",
        "callback_2 = [checkpoint_2, earlystop_2, tensorboard_2]"
      ],
      "execution_count": 0,
      "outputs": []
    },
    {
      "cell_type": "code",
      "metadata": {
        "id": "z2ChH7sQ_9Fy",
        "colab_type": "code",
        "colab": {}
      },
      "source": [
        "import warnings\n",
        "warnings.filterwarnings('ignore')\n",
        "\n",
        "\n",
        "model = Sequential()\n",
        "\n",
        "model.add(Conv2D(filters = 128, kernel_size = (3,3), input_shape = input_shape, activation = 'relu', kernel_regularizer = regularizers.l2(0.01)))\n",
        "model.add(MaxPool2D(pool_size = (2,2)))\n",
        "model.add(Dropout(0.3))\n",
        "\n",
        "model.add(Conv2D(filters = 64, kernel_size = (3,3), input_shape = input_shape, activation = 'relu', kernel_regularizer = regularizers.l2(0.01)))\n",
        "model.add(MaxPool2D(pool_size = (2,2)))\n",
        "model.add(Dropout(0.3))\n",
        "\n",
        "\n",
        "model.add(Conv2D(filters = 64, kernel_size = (3,3), input_shape = input_shape, activation = 'relu', kernel_regularizer = regularizers.l2(0.01)))\n",
        "model.add(MaxPool2D(pool_size = (2,2)))\n",
        "model.add(Dropout(0.3))\n",
        "\n",
        "model.add(Flatten())\n",
        "\n",
        "model.add(Dense(128))\n",
        "model.add(Activation('relu'))\n",
        "model.add(Dropout(0.3))\n",
        "\n",
        "model.add(Dense(1))\n",
        "model.add(Activation('sigmoid'))\n",
        "\n",
        "model.compile(loss = 'binary_crossentropy', optimizer = 'adam', metrics = ['accuracy'])"
      ],
      "execution_count": 0,
      "outputs": []
    },
    {
      "cell_type": "code",
      "metadata": {
        "id": "tqvJcyR__8qX",
        "colab_type": "code",
        "colab": {}
      },
      "source": [
        "# https://github.com/mmortazavi/EntityEmbedding-Working_Example/blob/master/EntityEmbedding.ipynb\n",
        "\n",
        "import pydot_ng as pydot\n",
        "from keras.utils import plot_model\n",
        "from IPython.display import Image\n",
        "\n",
        "plot_model(model, show_shapes = True, show_layer_names = True, to_file = 'lunar_model_1.png')\n",
        "\n",
        "Image(retina = True, filename = 'lunar_model_1.png')"
      ],
      "execution_count": 0,
      "outputs": []
    },
    {
      "cell_type": "code",
      "metadata": {
        "id": "oj-B7ForAJeL",
        "colab_type": "code",
        "colab": {}
      },
      "source": [
        "model.summary()"
      ],
      "execution_count": 0,
      "outputs": []
    },
    {
      "cell_type": "code",
      "metadata": {
        "id": "wMgA7N-bAJNI",
        "colab_type": "code",
        "colab": {}
      },
      "source": [
        "batch_size = 16\n",
        "\n",
        "train_img_gen = img_gen.flow_from_directory(('Train Images'),\n",
        "                                           target_size = input_shape[:2],\n",
        "                                           batch_size = batch_size,\n",
        "                                           class_mode = 'binary')"
      ],
      "execution_count": 0,
      "outputs": []
    },
    {
      "cell_type": "code",
      "metadata": {
        "id": "N0VkxR7YAP62",
        "colab_type": "code",
        "colab": {}
      },
      "source": [
        "print(\"\\n -> Class indices.\\n\")\n",
        "\n",
        "print(train_img_gen.class_indices)"
      ],
      "execution_count": 0,
      "outputs": []
    },
    {
      "cell_type": "code",
      "metadata": {
        "id": "QP7Vuw0EAPvT",
        "colab_type": "code",
        "colab": {}
      },
      "source": [
        "import warnings\n",
        "warnings.filterwarnings('ignore')\n",
        "\n",
        "results = model.fit_generator(train_img_gen, epochs = 20, steps_per_epoch = 100, callbacks = callback_2)"
      ],
      "execution_count": 0,
      "outputs": []
    },
    {
      "cell_type": "code",
      "metadata": {
        "id": "rMg_cP6XAPgk",
        "colab_type": "code",
        "colab": {}
      },
      "source": [
        "print(\"Original small image after resizing\\n\")\n",
        "\n",
        "r = cv2.imread('Train Images/Small/'+tr_s_list[1])\n",
        "r = cv2.cvtColor(r, cv2.COLOR_BGR2RGB)\n",
        "r = cv2.resize(r, (480, 480))\n",
        "r = np.expand_dims(r, axis = 0)"
      ],
      "execution_count": 0,
      "outputs": []
    },
    {
      "cell_type": "code",
      "metadata": {
        "id": "Z7bxJHn9AZ9V",
        "colab_type": "code",
        "colab": {}
      },
      "source": [
        "test = pd.read_csv('DataSet/test.csv')\n",
        "\n",
        "print(\"\\n -> Displaying head of test data.\\n\")\n",
        "\n",
        "test.head()"
      ],
      "execution_count": 0,
      "outputs": []
    },
    {
      "cell_type": "code",
      "metadata": {
        "id": "W-Knobu-AZvH",
        "colab_type": "code",
        "colab": {}
      },
      "source": [
        "print(\"\\n -> Shape of test data:\", test.shape)\n",
        "print(\"\\n -> Number of rows in test data:\", test.shape[0])\n",
        "print(\"\\n -> Number of columns in test data:\", test.shape[1])\n",
        "print(\"\\n -> Number of images in test data:\", test.shape[0])"
      ],
      "execution_count": 0,
      "outputs": []
    },
    {
      "cell_type": "code",
      "metadata": {
        "id": "hFIjlVQ0Ago_",
        "colab_type": "code",
        "colab": {}
      },
      "source": [
        "import cv2\n",
        "\n",
        "print(\"\\nFirst 10 images from test\")\n",
        "print('*'*35, '\\n')\n",
        "\n",
        "fig = plt.figure(figsize=(20,20))\n",
        "\n",
        "for i in range(1, 11):\n",
        "    \n",
        "    fig.add_subplot(5,2,i)\n",
        "    \n",
        "    read = cv2.imread('Test Images/'+te_list[i])\n",
        "    img = cv2.cvtColor(read, cv2.COLOR_BGR2RGB)\n",
        "    plt.imshow(img)\n",
        "\n",
        "plt.show()"
      ],
      "execution_count": 0,
      "outputs": []
    },
    {
      "cell_type": "code",
      "metadata": {
        "id": "O8qkEZ-kAgZN",
        "colab_type": "code",
        "colab": {}
      },
      "source": [
        "test_files = np.array(test['Image_File'])\n",
        "\n",
        "test_files[:5]"
      ],
      "execution_count": 0,
      "outputs": []
    },
    {
      "cell_type": "code",
      "metadata": {
        "id": "ZuMAaRUfAl-Z",
        "colab_type": "code",
        "colab": {}
      },
      "source": [
        "\n",
        "test_arr = []\n",
        "\n",
        "for i in range(len(test_files)):\n",
        "    \n",
        "    t = cv2.imread('Test Images/'+test_files[i])\n",
        "    t = cv2.cvtColor(t, cv2.COLOR_BGR2RGB)\n",
        "    t = cv2.resize(t, (480, 480))\n",
        "    t = np.expand_dims(t, axis = 0)\n",
        "    t = np.array(t)\n",
        "    test_arr.append(t)"
      ],
      "execution_count": 0,
      "outputs": []
    },
    {
      "cell_type": "code",
      "metadata": {
        "id": "-3ZYUGuKAlwR",
        "colab_type": "code",
        "colab": {}
      },
      "source": [
        "predict = []\n",
        "\n",
        "for i in range(len(test_arr)):\n",
        "    \n",
        "    pred = model.predict(test_arr[i])\n",
        "    predict.append(pred)"
      ],
      "execution_count": 0,
      "outputs": []
    },
    {
      "cell_type": "code",
      "metadata": {
        "id": "LY4sXNjeAliB",
        "colab_type": "code",
        "colab": {}
      },
      "source": [
        "test.head()"
      ],
      "execution_count": 0,
      "outputs": []
    },
    {
      "cell_type": "code",
      "metadata": {
        "id": "c0guwE1wAlSC",
        "colab_type": "code",
        "colab": {}
      },
      "source": [
        "pred_list = []\n",
        "\n",
        "for i in range(len(predict)):\n",
        "    \n",
        "    pred = int(predict[i][0][0])\n",
        "    pred_list.append(pred)"
      ],
      "execution_count": 0,
      "outputs": []
    },
    {
      "cell_type": "code",
      "metadata": {
        "id": "Bt0AhNstA0Kq",
        "colab_type": "code",
        "colab": {}
      },
      "source": [
        "test['Class'] = pred_list"
      ],
      "execution_count": 0,
      "outputs": []
    },
    {
      "cell_type": "code",
      "metadata": {
        "id": "T0j1n7l-A0Ag",
        "colab_type": "code",
        "colab": {}
      },
      "source": [
        "print(\"\\n -> Class indices.\\n\")\n",
        "train_img_gen.class_indices"
      ],
      "execution_count": 0,
      "outputs": []
    },
    {
      "cell_type": "code",
      "metadata": {
        "id": "e67P_Fs8A8hM",
        "colab_type": "code",
        "colab": {}
      },
      "source": [
        "test['Class'] = test['Class'].apply(lambda x: 'Large' if x == 0 else 'Small')"
      ],
      "execution_count": 0,
      "outputs": []
    },
    {
      "cell_type": "code",
      "metadata": {
        "id": "hDqSEn25A8VN",
        "colab_type": "code",
        "colab": {}
      },
      "source": [
        "from prettytable import PrettyTable\n",
        "\n",
        "a = PrettyTable()\n",
        "\n",
        "a.field_names = ['S.No', 'Model', 'Metric', 'Optimizer', 'Dropout', 'Test F1-Score', 'HackerEarth Rank']\n",
        "\n",
        "a.add_row([1, 'Conv2d', '100 * F1-Score', 'Adam', 0.3, 99.76109, 120])\n",
        "\n",
        "print(a.get_string(title = \"Classification of Lunar Rock\"))"
      ],
      "execution_count": 0,
      "outputs": []
    },
    {
      "cell_type": "code",
      "metadata": {
        "id": "XzLaF2HoA6cE",
        "colab_type": "code",
        "colab": {}
      },
      "source": [
        ""
      ],
      "execution_count": 0,
      "outputs": []
    },
    {
      "cell_type": "code",
      "metadata": {
        "id": "bwbpRc19A6NF",
        "colab_type": "code",
        "colab": {}
      },
      "source": [
        ""
      ],
      "execution_count": 0,
      "outputs": []
    },
    {
      "cell_type": "code",
      "metadata": {
        "id": "gzyx6whyAzw7",
        "colab_type": "code",
        "colab": {}
      },
      "source": [
        ""
      ],
      "execution_count": 0,
      "outputs": []
    }
  ]
}